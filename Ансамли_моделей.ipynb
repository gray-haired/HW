{
  "nbformat": 4,
  "nbformat_minor": 0,
  "metadata": {
    "colab": {
      "name": "Ансамли моделей.ipynb",
      "provenance": [],
      "authorship_tag": "ABX9TyNgNE8k9eB1GaMMwOMBFERN"
    },
    "kernelspec": {
      "name": "python3",
      "display_name": "Python 3"
    },
    "language_info": {
      "name": "python"
    }
  },
  "cells": [
    {
      "cell_type": "code",
      "execution_count": null,
      "metadata": {
        "id": "BIhol6zV8YeV"
      },
      "outputs": [],
      "source": [
        "!pip install optuna"
      ]
    },
    {
      "cell_type": "code",
      "source": [
        "import optuna\n",
        "import pandas as pd\n",
        "import numpy as np\n",
        "\n",
        "from sklearn.preprocessing import MinMaxScaler\n",
        "from sklearn.linear_model import LinearRegression\n",
        "from sklearn.isotonic import IsotonicRegression\n",
        "from sklearn.metrics import mean_squared_log_error\n",
        "from sklearn.model_selection import train_test_split"
      ],
      "metadata": {
        "id": "MZPrn_Lv8knV"
      },
      "execution_count": null,
      "outputs": []
    },
    {
      "cell_type": "code",
      "source": [
        "# получение данных\n",
        "data = pd.read_csv('/content/sample_data/energy_data_2.csv')\n",
        "print(data.head())"
      ],
      "metadata": {
        "colab": {
          "base_uri": "https://localhost:8080/"
        },
        "id": "HkRW-8uC9izl",
        "outputId": "ca8a8908-2b7a-43d4-daaf-ad5a770cd40d"
      },
      "execution_count": null,
      "outputs": [
        {
          "output_type": "stream",
          "name": "stdout",
          "text": [
            "             timestamp  meter_reading  air_temperature  cloud_coverage  \\\n",
            "0  2016-01-30 08:00:00        43.6839              8.3             0.0   \n",
            "1  2016-01-31 05:00:00        37.5408             12.8             0.0   \n",
            "2  2016-01-31 17:00:00        52.5571             20.6             0.0   \n",
            "3  2016-04-08 14:00:00        59.3827             21.7             2.0   \n",
            "4  2016-05-01 19:00:00       448.0000             31.1             0.0   \n",
            "\n",
            "   dew_temperature  precip_depth_1_hr  sea_level_pressure  wind_speed  \\\n",
            "0              6.1                0.0              1019.0         2.1   \n",
            "1             10.0                0.0              1021.9         0.0   \n",
            "2             11.7                0.0              1020.9         1.5   \n",
            "3             14.4                0.0              1015.1         3.1   \n",
            "4             17.2                0.0              1016.1         4.1   \n",
            "\n",
            "   wind_direction_sin  wind_direction_cos  air_temperature1  hour  \n",
            "0        5.877853e-01        8.090170e-01              -2.3     8  \n",
            "1        0.000000e+00        1.000000e+00              -1.1     5  \n",
            "2       -3.090170e-01       -9.510565e-01               1.7    17  \n",
            "3        1.000000e+00        1.194340e-15               2.8    14  \n",
            "4        1.224647e-16       -1.000000e+00               1.1    19  \n"
          ]
        }
      ]
    },
    {
      "cell_type": "code",
      "source": [
        "# нормализация данных\n",
        "data_norm = pd.DataFrame(MinMaxScaler().fit_transform(data[['air_temperature', \n",
        "                                                           'air_temperature1', \n",
        "                                                           'sea_level_pressure']]))\n",
        "print(data_norm.head())"
      ],
      "metadata": {
        "colab": {
          "base_uri": "https://localhost:8080/"
        },
        "id": "v9XMgNm099JL",
        "outputId": "1279a5a8-c543-462d-9f5c-fc3bd48ff71a"
      },
      "execution_count": null,
      "outputs": [
        {
          "output_type": "stream",
          "name": "stdout",
          "text": [
            "          0         1         2\n",
            "0  0.106109  0.556180  0.739726\n",
            "1  0.250804  0.623596  0.819178\n",
            "2  0.501608  0.780899  0.791781\n",
            "3  0.536977  0.842697  0.632877\n",
            "4  0.839228  0.747191  0.660274\n"
          ]
        }
      ]
    },
    {
      "cell_type": "code",
      "source": [
        "# РАЗДЕЛЕНИЕ ДАННЫХ\n",
        "# на обучающие и проверочные\n",
        "train, test, y_train, y_test = train_test_split(data_norm, data['meter_reading'], test_size = 0.2)"
      ],
      "metadata": {
        "id": "82rR1DBu-qj3"
      },
      "execution_count": null,
      "outputs": []
    },
    {
      "cell_type": "code",
      "source": [
        "# МОДЕЛИ РЕГРЕССИИ\n",
        "# Линейная и изотоническая регрессия\n",
        "def rmsle_err (y, y_pred):\n",
        "  return((np.log(1 + y) - np.log(1 + y_pred))**2).mean()**0.5"
      ],
      "metadata": {
        "id": "4xXF-rDV_6fY"
      },
      "execution_count": null,
      "outputs": []
    },
    {
      "cell_type": "code",
      "source": [
        "y = data['meter_reading']\n",
        "model1 = LinearRegression().fit(train, y_train)\n",
        "print('RMSLE: {0:.5}'.format(rmsle_err(y_train, model1.predict(train))))"
      ],
      "metadata": {
        "colab": {
          "base_uri": "https://localhost:8080/"
        },
        "id": "VAROwpJRAmpJ",
        "outputId": "98fd9efc-e73c-45c4-92ec-7e8358e23dc2"
      },
      "execution_count": null,
      "outputs": [
        {
          "output_type": "stream",
          "name": "stdout",
          "text": [
            "RMSLE: 0.22112\n"
          ]
        }
      ]
    },
    {
      "cell_type": "code",
      "source": [
        "model2 = IsotonicRegression(out_of_bounds='clip').fit(train[0], y_train)\n",
        "print(\"RMSLE: {0:.5}\".format(rmsle_err(y_train, model2.predict(train[0]))))"
      ],
      "metadata": {
        "colab": {
          "base_uri": "https://localhost:8080/"
        },
        "id": "gtkVYJ_UBJI4",
        "outputId": "2a1cbdc8-3368-4b04-e6b1-682da0862101"
      },
      "execution_count": null,
      "outputs": [
        {
          "output_type": "stream",
          "name": "stdout",
          "text": [
            "RMSLE: 0.21775\n"
          ]
        }
      ]
    },
    {
      "cell_type": "code",
      "source": [
        "# ОБЪЕДИНЕНИЕ МОДЕЛЕЙ\n",
        "# Применение Optuna для поиска оптимального коэффициента\n",
        "def objective (trial):\n",
        "  alpha = trial.suggest_float('alpha', 1e-10, 1, log=True)\n",
        "  y_pred = (alpha*model1.predict(test) + \n",
        "            (1 - alpha)*model2.predict(test[0]))\n",
        "  return mean_squared_log_error(y_test, y_pred)"
      ],
      "metadata": {
        "id": "ZrwGT4kXByeV"
      },
      "execution_count": null,
      "outputs": []
    },
    {
      "cell_type": "code",
      "source": [
        "study = optuna.create_study()\n",
        "study.optimize(objective, n_trials=100)"
      ],
      "metadata": {
        "colab": {
          "base_uri": "https://localhost:8080/"
        },
        "id": "6w_tsRM9Djn7",
        "outputId": "8106994a-e2f9-4020-ab28-a74834af6356"
      },
      "execution_count": null,
      "outputs": [
        {
          "output_type": "stream",
          "name": "stderr",
          "text": [
            "\u001b[32m[I 2022-05-29 18:38:46,071]\u001b[0m A new study created in memory with name: no-name-6c1388c6-d4c1-45dd-b0c1-264115257da2\u001b[0m\n",
            "\u001b[32m[I 2022-05-29 18:38:46,519]\u001b[0m Trial 0 finished with value: 0.044155444815048635 and parameters: {'alpha': 0.07386967390919558}. Best is trial 0 with value: 0.044155444815048635.\u001b[0m\n",
            "\u001b[32m[I 2022-05-29 18:38:46,525]\u001b[0m Trial 1 finished with value: 0.044167244638939014 and parameters: {'alpha': 0.03143850473913334}. Best is trial 0 with value: 0.044155444815048635.\u001b[0m\n",
            "\u001b[32m[I 2022-05-29 18:38:46,535]\u001b[0m Trial 2 finished with value: 0.04418070281250125 and parameters: {'alpha': 2.372588428960705e-07}. Best is trial 0 with value: 0.044155444815048635.\u001b[0m\n",
            "\u001b[32m[I 2022-05-29 18:38:46,545]\u001b[0m Trial 3 finished with value: 0.04417935918064203 and parameters: {'alpha': 0.0027625870928715715}. Best is trial 0 with value: 0.044155444815048635.\u001b[0m\n",
            "\u001b[32m[I 2022-05-29 18:38:46,553]\u001b[0m Trial 4 finished with value: 0.044180702829554816 and parameters: {'alpha': 2.0259937719271677e-07}. Best is trial 0 with value: 0.044155444815048635.\u001b[0m\n",
            "\u001b[32m[I 2022-05-29 18:38:46,562]\u001b[0m Trial 5 finished with value: 0.04418068306490133 and parameters: {'alpha': 4.0378714982876166e-05}. Best is trial 0 with value: 0.044155444815048635.\u001b[0m\n",
            "\u001b[32m[I 2022-05-29 18:38:46,570]\u001b[0m Trial 6 finished with value: 0.04418070292712326 and parameters: {'alpha': 4.302636171176673e-09}. Best is trial 0 with value: 0.044155444815048635.\u001b[0m\n",
            "\u001b[32m[I 2022-05-29 18:38:46,579]\u001b[0m Trial 7 finished with value: 0.044180701845821506 and parameters: {'alpha': 2.2019433315851454e-06}. Best is trial 0 with value: 0.044155444815048635.\u001b[0m\n",
            "\u001b[32m[I 2022-05-29 18:38:46,587]\u001b[0m Trial 8 finished with value: 0.04456447788239844 and parameters: {'alpha': 0.576121709766754}. Best is trial 0 with value: 0.044155444815048635.\u001b[0m\n",
            "\u001b[32m[I 2022-05-29 18:38:46,595]\u001b[0m Trial 9 finished with value: 0.04418070292633845 and parameters: {'alpha': 5.8976740691247065e-09}. Best is trial 0 with value: 0.044155444815048635.\u001b[0m\n",
            "\u001b[32m[I 2022-05-29 18:38:46,606]\u001b[0m Trial 10 finished with value: 0.04418060999123762 and parameters: {'alpha': 0.00018903357328529184}. Best is trial 0 with value: 0.044155444815048635.\u001b[0m\n",
            "\u001b[32m[I 2022-05-29 18:38:46,616]\u001b[0m Trial 11 finished with value: 0.04500031092908264 and parameters: {'alpha': 0.7741255097930956}. Best is trial 0 with value: 0.044155444815048635.\u001b[0m\n",
            "\u001b[32m[I 2022-05-29 18:38:46,626]\u001b[0m Trial 12 finished with value: 0.044177150865176526 and parameters: {'alpha': 0.007448667642820332}. Best is trial 0 with value: 0.044155444815048635.\u001b[0m\n",
            "\u001b[32m[I 2022-05-29 18:38:46,637]\u001b[0m Trial 13 finished with value: 0.04417543350712089 and parameters: {'alpha': 0.011231232481952066}. Best is trial 0 with value: 0.044155444815048635.\u001b[0m\n",
            "\u001b[32m[I 2022-05-29 18:38:46,647]\u001b[0m Trial 14 finished with value: 0.044160445848539474 and parameters: {'alpha': 0.05260420977170338}. Best is trial 0 with value: 0.044155444815048635.\u001b[0m\n",
            "\u001b[32m[I 2022-05-29 18:38:46,658]\u001b[0m Trial 15 finished with value: 0.04418042393037139 and parameters: {'alpha': 0.000568369428731604}. Best is trial 0 with value: 0.044155444815048635.\u001b[0m\n",
            "\u001b[32m[I 2022-05-29 18:38:46,671]\u001b[0m Trial 16 finished with value: 0.04416864367060191 and parameters: {'alpha': 0.027675898224461964}. Best is trial 0 with value: 0.044155444815048635.\u001b[0m\n",
            "\u001b[32m[I 2022-05-29 18:38:46,681]\u001b[0m Trial 17 finished with value: 0.04416452870437903 and parameters: {'alpha': 0.203678794560433}. Best is trial 0 with value: 0.044155444815048635.\u001b[0m\n",
            "\u001b[32m[I 2022-05-29 18:38:46,691]\u001b[0m Trial 18 finished with value: 0.044180702929172484 and parameters: {'alpha': 1.378545045869508e-10}. Best is trial 0 with value: 0.044155444815048635.\u001b[0m\n",
            "\u001b[32m[I 2022-05-29 18:38:46,701]\u001b[0m Trial 19 finished with value: 0.04418069630891642 and parameters: {'alpha': 1.345579096844317e-05}. Best is trial 0 with value: 0.044155444815048635.\u001b[0m\n",
            "\u001b[32m[I 2022-05-29 18:38:46,712]\u001b[0m Trial 20 finished with value: 0.04418033127619293 and parameters: {'alpha': 0.000757717147913032}. Best is trial 0 with value: 0.044155444815048635.\u001b[0m\n",
            "\u001b[32m[I 2022-05-29 18:38:46,720]\u001b[0m Trial 21 finished with value: 0.044161569986915804 and parameters: {'alpha': 0.1942041354276225}. Best is trial 0 with value: 0.044155444815048635.\u001b[0m\n",
            "\u001b[32m[I 2022-05-29 18:38:46,730]\u001b[0m Trial 22 finished with value: 0.04415142957055239 and parameters: {'alpha': 0.1049431707564722}. Best is trial 22 with value: 0.04415142957055239.\u001b[0m\n",
            "\u001b[32m[I 2022-05-29 18:38:46,740]\u001b[0m Trial 23 finished with value: 0.04416290165899967 and parameters: {'alpha': 0.04428366839101912}. Best is trial 22 with value: 0.04415142957055239.\u001b[0m\n",
            "\u001b[32m[I 2022-05-29 18:38:46,751]\u001b[0m Trial 24 finished with value: 0.04417965366225751 and parameters: {'alpha': 0.0021516672254105885}. Best is trial 22 with value: 0.04415142957055239.\u001b[0m\n",
            "\u001b[32m[I 2022-05-29 18:38:46,761]\u001b[0m Trial 25 finished with value: 0.044152760974982115 and parameters: {'alpha': 0.09089595406412945}. Best is trial 22 with value: 0.04415142957055239.\u001b[0m\n",
            "\u001b[32m[I 2022-05-29 18:38:46,771]\u001b[0m Trial 26 finished with value: 0.044152953055394385 and parameters: {'alpha': 0.15341098022939162}. Best is trial 22 with value: 0.04415142957055239.\u001b[0m\n",
            "\u001b[32m[I 2022-05-29 18:38:46,782]\u001b[0m Trial 27 finished with value: 0.04418059874667893 and parameters: {'alpha': 0.00021192481117934936}. Best is trial 22 with value: 0.04415142957055239.\u001b[0m\n",
            "\u001b[32m[I 2022-05-29 18:38:46,791]\u001b[0m Trial 28 finished with value: 0.044178179549405436 and parameters: {'alpha': 0.005242157872011058}. Best is trial 22 with value: 0.04415142957055239.\u001b[0m\n",
            "\u001b[32m[I 2022-05-29 18:38:46,802]\u001b[0m Trial 29 finished with value: 0.044161911472180404 and parameters: {'alpha': 0.1953594834717254}. Best is trial 22 with value: 0.04415142957055239.\u001b[0m\n",
            "\u001b[32m[I 2022-05-29 18:38:46,812]\u001b[0m Trial 30 finished with value: 0.045513355594041106 and parameters: {'alpha': 0.9491129102155635}. Best is trial 22 with value: 0.04415142957055239.\u001b[0m\n",
            "\u001b[32m[I 2022-05-29 18:38:46,822]\u001b[0m Trial 31 finished with value: 0.04415194760917483 and parameters: {'alpha': 0.09843098137888055}. Best is trial 22 with value: 0.04415142957055239.\u001b[0m\n",
            "\u001b[32m[I 2022-05-29 18:38:46,831]\u001b[0m Trial 32 finished with value: 0.04415132648602526 and parameters: {'alpha': 0.10657715091341127}. Best is trial 32 with value: 0.04415132648602526.\u001b[0m\n",
            "\u001b[32m[I 2022-05-29 18:38:46,842]\u001b[0m Trial 33 finished with value: 0.044172301418495936 and parameters: {'alpha': 0.01848873230097885}. Best is trial 32 with value: 0.04415132648602526.\u001b[0m\n",
            "\u001b[32m[I 2022-05-29 18:38:46,855]\u001b[0m Trial 34 finished with value: 0.04415946284564997 and parameters: {'alpha': 0.05623264581944134}. Best is trial 32 with value: 0.04415132648602526.\u001b[0m\n",
            "\u001b[32m[I 2022-05-29 18:38:46,867]\u001b[0m Trial 35 finished with value: 0.044179593991840335 and parameters: {'alpha': 0.002275202872658181}. Best is trial 32 with value: 0.04415132648602526.\u001b[0m\n",
            "\u001b[32m[I 2022-05-29 18:38:46,878]\u001b[0m Trial 36 finished with value: 0.044174673634515216 and parameters: {'alpha': 0.01294716002216012}. Best is trial 32 with value: 0.04415132648602526.\u001b[0m\n",
            "\u001b[32m[I 2022-05-29 18:38:46,888]\u001b[0m Trial 37 finished with value: 0.044150903666092305 and parameters: {'alpha': 0.12450203471315276}. Best is trial 37 with value: 0.044150903666092305.\u001b[0m\n",
            "\u001b[32m[I 2022-05-29 18:38:46,899]\u001b[0m Trial 38 finished with value: 0.044180653790664104 and parameters: {'alpha': 9.99097661940416e-05}. Best is trial 37 with value: 0.044150903666092305.\u001b[0m\n",
            "\u001b[32m[I 2022-05-29 18:38:46,910]\u001b[0m Trial 39 finished with value: 0.044179999117200726 and parameters: {'alpha': 0.0014389832866369577}. Best is trial 37 with value: 0.044150903666092305.\u001b[0m\n",
            "\u001b[32m[I 2022-05-29 18:38:46,920]\u001b[0m Trial 40 finished with value: 0.04418070107102186 and parameters: {'alpha': 3.7766728749924086e-06}. Best is trial 37 with value: 0.044150903666092305.\u001b[0m\n",
            "\u001b[32m[I 2022-05-29 18:38:46,929]\u001b[0m Trial 41 finished with value: 0.04420531833968322 and parameters: {'alpha': 0.28590034850573626}. Best is trial 37 with value: 0.044150903666092305.\u001b[0m\n",
            "\u001b[32m[I 2022-05-29 18:38:46,937]\u001b[0m Trial 42 finished with value: 0.04415390230439552 and parameters: {'alpha': 0.08272647446086691}. Best is trial 37 with value: 0.044150903666092305.\u001b[0m\n",
            "\u001b[32m[I 2022-05-29 18:38:46,947]\u001b[0m Trial 43 finished with value: 0.0443908933822044 and parameters: {'alpha': 0.4674526290866854}. Best is trial 37 with value: 0.044150903666092305.\u001b[0m\n",
            "\u001b[32m[I 2022-05-29 18:38:46,957]\u001b[0m Trial 44 finished with value: 0.0441524172219364 and parameters: {'alpha': 0.09382769312580903}. Best is trial 37 with value: 0.044150903666092305.\u001b[0m\n",
            "\u001b[32m[I 2022-05-29 18:38:46,969]\u001b[0m Trial 45 finished with value: 0.044178145645955784 and parameters: {'alpha': 0.005314208947558615}. Best is trial 37 with value: 0.044150903666092305.\u001b[0m\n",
            "\u001b[32m[I 2022-05-29 18:38:46,981]\u001b[0m Trial 46 finished with value: 0.044171264239653826 and parameters: {'alpha': 0.021008064720027145}. Best is trial 37 with value: 0.044150903666092305.\u001b[0m\n",
            "\u001b[32m[I 2022-05-29 18:38:46,990]\u001b[0m Trial 47 finished with value: 0.04418070290492842 and parameters: {'alpha': 4.941111226209563e-08}. Best is trial 37 with value: 0.044150903666092305.\u001b[0m\n",
            "\u001b[32m[I 2022-05-29 18:38:47,000]\u001b[0m Trial 48 finished with value: 0.044425643622233404 and parameters: {'alpha': 0.49174239226085215}. Best is trial 37 with value: 0.044150903666092305.\u001b[0m\n",
            "\u001b[32m[I 2022-05-29 18:38:47,011]\u001b[0m Trial 49 finished with value: 0.04416649341847892 and parameters: {'alpha': 0.033525552535204846}. Best is trial 37 with value: 0.044150903666092305.\u001b[0m\n",
            "\u001b[32m[I 2022-05-29 18:38:47,022]\u001b[0m Trial 50 finished with value: 0.044177117668382546 and parameters: {'alpha': 0.007520589372609}. Best is trial 37 with value: 0.044150903666092305.\u001b[0m\n",
            "\u001b[32m[I 2022-05-29 18:38:47,032]\u001b[0m Trial 51 finished with value: 0.04415138642855295 and parameters: {'alpha': 0.10560639079011708}. Best is trial 37 with value: 0.044150903666092305.\u001b[0m\n",
            "\u001b[32m[I 2022-05-29 18:38:47,042]\u001b[0m Trial 52 finished with value: 0.04415565164988347 and parameters: {'alpha': 0.07280487134495084}. Best is trial 37 with value: 0.044150903666092305.\u001b[0m\n",
            "\u001b[32m[I 2022-05-29 18:38:47,052]\u001b[0m Trial 53 finished with value: 0.04562879161621391 and parameters: {'alpha': 0.9836622640631222}. Best is trial 37 with value: 0.044150903666092305.\u001b[0m\n",
            "\u001b[32m[I 2022-05-29 18:38:47,062]\u001b[0m Trial 54 finished with value: 0.04415444493639342 and parameters: {'alpha': 0.16340523456965733}. Best is trial 37 with value: 0.044150903666092305.\u001b[0m\n",
            "\u001b[32m[I 2022-05-29 18:38:47,074]\u001b[0m Trial 55 finished with value: 0.04417069415396449 and parameters: {'alpha': 0.022420227649760417}. Best is trial 37 with value: 0.044150903666092305.\u001b[0m\n",
            "\u001b[32m[I 2022-05-29 18:38:47,085]\u001b[0m Trial 56 finished with value: 0.04418070281136907 and parameters: {'alpha': 2.395598747117142e-07}. Best is trial 37 with value: 0.044150903666092305.\u001b[0m\n",
            "\u001b[32m[I 2022-05-29 18:38:47,097]\u001b[0m Trial 57 finished with value: 0.044297240692389335 and parameters: {'alpha': 0.3914312239362071}. Best is trial 37 with value: 0.044150903666092305.\u001b[0m\n",
            "\u001b[32m[I 2022-05-29 18:38:47,114]\u001b[0m Trial 58 finished with value: 0.04415536930017705 and parameters: {'alpha': 0.0742644368441964}. Best is trial 37 with value: 0.044150903666092305.\u001b[0m\n",
            "\u001b[32m[I 2022-05-29 18:38:47,125]\u001b[0m Trial 59 finished with value: 0.04418044241320611 and parameters: {'alpha': 0.0005306336271392986}. Best is trial 37 with value: 0.044150903666092305.\u001b[0m\n",
            "\u001b[32m[I 2022-05-29 18:38:47,136]\u001b[0m Trial 60 finished with value: 0.0441754765045188 and parameters: {'alpha': 0.011134938211191938}. Best is trial 37 with value: 0.044150903666092305.\u001b[0m\n",
            "\u001b[32m[I 2022-05-29 18:38:47,146]\u001b[0m Trial 61 finished with value: 0.04415140349205397 and parameters: {'alpha': 0.13742763993039148}. Best is trial 37 with value: 0.044150903666092305.\u001b[0m\n",
            "\u001b[32m[I 2022-05-29 18:38:47,157]\u001b[0m Trial 62 finished with value: 0.0441508954814671 and parameters: {'alpha': 0.12376525344002855}. Best is trial 62 with value: 0.0441508954814671.\u001b[0m\n",
            "\u001b[32m[I 2022-05-29 18:38:47,165]\u001b[0m Trial 63 finished with value: 0.044243426073111033 and parameters: {'alpha': 0.3360012338545575}. Best is trial 62 with value: 0.0441508954814671.\u001b[0m\n",
            "\u001b[32m[I 2022-05-29 18:38:47,177]\u001b[0m Trial 64 finished with value: 0.044151966694219856 and parameters: {'alpha': 0.14454863254855368}. Best is trial 62 with value: 0.0441508954814671.\u001b[0m\n",
            "\u001b[32m[I 2022-05-29 18:38:47,192]\u001b[0m Trial 65 finished with value: 0.0441666861642886 and parameters: {'alpha': 0.03298534977662717}. Best is trial 62 with value: 0.0441508954814671.\u001b[0m\n",
            "\u001b[32m[I 2022-05-29 18:38:47,206]\u001b[0m Trial 66 finished with value: 0.0441790123170877 and parameters: {'alpha': 0.0034862543608982196}. Best is trial 62 with value: 0.0441508954814671.\u001b[0m\n",
            "\u001b[32m[I 2022-05-29 18:38:47,217]\u001b[0m Trial 67 finished with value: 0.044163021282802604 and parameters: {'alpha': 0.04390124685950551}. Best is trial 62 with value: 0.0441508954814671.\u001b[0m\n",
            "\u001b[32m[I 2022-05-29 18:38:47,228]\u001b[0m Trial 68 finished with value: 0.0441841631069504 and parameters: {'alpha': 0.2499702306267069}. Best is trial 62 with value: 0.0441508954814671.\u001b[0m\n",
            "\u001b[32m[I 2022-05-29 18:38:47,237]\u001b[0m Trial 69 finished with value: 0.044180702928752424 and parameters: {'alpha': 9.91577702863018e-10}. Best is trial 62 with value: 0.0441508954814671.\u001b[0m\n",
            "\u001b[32m[I 2022-05-29 18:38:47,251]\u001b[0m Trial 70 finished with value: 0.04417439175868925 and parameters: {'alpha': 0.01359065881993524}. Best is trial 62 with value: 0.0441508954814671.\u001b[0m\n",
            "\u001b[32m[I 2022-05-29 18:38:47,268]\u001b[0m Trial 71 finished with value: 0.04415152962218719 and parameters: {'alpha': 0.13927027775264444}. Best is trial 62 with value: 0.0441508954814671.\u001b[0m\n",
            "\u001b[32m[I 2022-05-29 18:38:47,473]\u001b[0m Trial 72 finished with value: 0.044657057271822974 and parameters: {'alpha': 0.6246582098884964}. Best is trial 62 with value: 0.0441508954814671.\u001b[0m\n",
            "\u001b[32m[I 2022-05-29 18:38:47,482]\u001b[0m Trial 73 finished with value: 0.044163932973763344 and parameters: {'alpha': 0.20186061051865173}. Best is trial 62 with value: 0.0441508954814671.\u001b[0m\n",
            "\u001b[32m[I 2022-05-29 18:38:47,492]\u001b[0m Trial 74 finished with value: 0.044154122783609154 and parameters: {'alpha': 0.08134016498473597}. Best is trial 62 with value: 0.0441508954814671.\u001b[0m\n",
            "\u001b[32m[I 2022-05-29 18:38:47,502]\u001b[0m Trial 75 finished with value: 0.04415096367356414 and parameters: {'alpha': 0.12766433951196537}. Best is trial 62 with value: 0.0441508954814671.\u001b[0m\n",
            "\u001b[32m[I 2022-05-29 18:38:47,513]\u001b[0m Trial 76 finished with value: 0.04416386792723107 and parameters: {'alpha': 0.04124692695910174}. Best is trial 62 with value: 0.0441508954814671.\u001b[0m\n",
            "\u001b[32m[I 2022-05-29 18:38:47,523]\u001b[0m Trial 77 finished with value: 0.04415117619007948 and parameters: {'alpha': 0.13341491946862483}. Best is trial 62 with value: 0.0441508954814671.\u001b[0m\n",
            "\u001b[32m[I 2022-05-29 18:38:47,532]\u001b[0m Trial 78 finished with value: 0.04425290854684299 and parameters: {'alpha': 0.3467529999082293}. Best is trial 62 with value: 0.0441508954814671.\u001b[0m\n",
            "\u001b[32m[I 2022-05-29 18:38:47,544]\u001b[0m Trial 79 finished with value: 0.04522224845225885 and parameters: {'alpha': 0.8548969973774847}. Best is trial 62 with value: 0.0441508954814671.\u001b[0m\n",
            "\u001b[32m[I 2022-05-29 18:38:47,554]\u001b[0m Trial 80 finished with value: 0.04417122989243948 and parameters: {'alpha': 0.021092581497380365}. Best is trial 62 with value: 0.0441508954814671.\u001b[0m\n",
            "\u001b[32m[I 2022-05-29 18:38:47,565]\u001b[0m Trial 81 finished with value: 0.04416275686007348 and parameters: {'alpha': 0.19814508619326454}. Best is trial 62 with value: 0.0441508954814671.\u001b[0m\n",
            "\u001b[32m[I 2022-05-29 18:38:47,575]\u001b[0m Trial 82 finished with value: 0.04415177675847184 and parameters: {'alpha': 0.14241808802727957}. Best is trial 62 with value: 0.0441508954814671.\u001b[0m\n",
            "\u001b[32m[I 2022-05-29 18:38:47,585]\u001b[0m Trial 83 finished with value: 0.044176773819136546 and parameters: {'alpha': 0.008268248838428575}. Best is trial 62 with value: 0.0441508954814671.\u001b[0m\n",
            "\u001b[32m[I 2022-05-29 18:38:47,594]\u001b[0m Trial 84 finished with value: 0.044161620038307065 and parameters: {'alpha': 0.04850700772795809}. Best is trial 62 with value: 0.0441508954814671.\u001b[0m\n",
            "\u001b[32m[I 2022-05-29 18:38:47,606]\u001b[0m Trial 85 finished with value: 0.04415106411844987 and parameters: {'alpha': 0.11193570106598694}. Best is trial 62 with value: 0.0441508954814671.\u001b[0m\n",
            "\u001b[32m[I 2022-05-29 18:38:47,623]\u001b[0m Trial 86 finished with value: 0.04447255024804555 and parameters: {'alpha': 0.5222220834498713}. Best is trial 62 with value: 0.0441508954814671.\u001b[0m\n",
            "\u001b[32m[I 2022-05-29 18:38:47,633]\u001b[0m Trial 87 finished with value: 0.04418069311012098 and parameters: {'alpha': 1.9957871246985326e-05}. Best is trial 62 with value: 0.0441508954814671.\u001b[0m\n",
            "\u001b[32m[I 2022-05-29 18:38:47,644]\u001b[0m Trial 88 finished with value: 0.04415120188271891 and parameters: {'alpha': 0.10883326891648692}. Best is trial 62 with value: 0.0441508954814671.\u001b[0m\n",
            "\u001b[32m[I 2022-05-29 18:38:47,654]\u001b[0m Trial 89 finished with value: 0.044168885984858686 and parameters: {'alpha': 0.02703950397582459}. Best is trial 62 with value: 0.0441508954814671.\u001b[0m\n",
            "\u001b[32m[I 2022-05-29 18:38:47,665]\u001b[0m Trial 90 finished with value: 0.044159158936540564 and parameters: {'alpha': 0.05739615321968147}. Best is trial 62 with value: 0.0441508954814671.\u001b[0m\n",
            "\u001b[32m[I 2022-05-29 18:38:47,676]\u001b[0m Trial 91 finished with value: 0.044150924717827174 and parameters: {'alpha': 0.12587253009979052}. Best is trial 62 with value: 0.0441508954814671.\u001b[0m\n",
            "\u001b[32m[I 2022-05-29 18:38:47,686]\u001b[0m Trial 92 finished with value: 0.04421127420499449 and parameters: {'alpha': 0.29468270486754805}. Best is trial 62 with value: 0.0441508954814671.\u001b[0m\n",
            "\u001b[32m[I 2022-05-29 18:38:47,697]\u001b[0m Trial 93 finished with value: 0.04415105571637132 and parameters: {'alpha': 0.1121586320965819}. Best is trial 62 with value: 0.0441508954814671.\u001b[0m\n",
            "\u001b[32m[I 2022-05-29 18:38:47,707]\u001b[0m Trial 94 finished with value: 0.04417316124070388 and parameters: {'alpha': 0.016446213592676957}. Best is trial 62 with value: 0.0441508954814671.\u001b[0m\n",
            "\u001b[32m[I 2022-05-29 18:38:47,718]\u001b[0m Trial 95 finished with value: 0.04415212630928493 and parameters: {'alpha': 0.0965783200280033}. Best is trial 62 with value: 0.0441508954814671.\u001b[0m\n",
            "\u001b[32m[I 2022-05-29 18:38:47,728]\u001b[0m Trial 96 finished with value: 0.04440513207020663 and parameters: {'alpha': 0.4776036895487504}. Best is trial 62 with value: 0.0441508954814671.\u001b[0m\n",
            "\u001b[32m[I 2022-05-29 18:38:47,738]\u001b[0m Trial 97 finished with value: 0.04417848502282035 and parameters: {'alpha': 0.004594983558814432}. Best is trial 62 with value: 0.0441508954814671.\u001b[0m\n",
            "\u001b[32m[I 2022-05-29 18:38:47,753]\u001b[0m Trial 98 finished with value: 0.044158932507146524 and parameters: {'alpha': 0.05827700782259416}. Best is trial 62 with value: 0.0441508954814671.\u001b[0m\n",
            "\u001b[32m[I 2022-05-29 18:38:47,764]\u001b[0m Trial 99 finished with value: 0.04418070256830287 and parameters: {'alpha': 7.335657872464612e-07}. Best is trial 62 with value: 0.0441508954814671.\u001b[0m\n"
          ]
        }
      ]
    },
    {
      "cell_type": "code",
      "source": [
        "y_pred1 = model1.predict(data_norm)\n",
        "y_pred2 = model2.predict(data_norm[0])\n",
        "y_pred = (study.best_params['alpha'] * y_pred1 + (1 - study.best_params['alpha'] * y_pred2))\n",
        "print('RMSLE линейной регрессии {0:.5}'.format(rmsle_err(y, y_pred1)))\n",
        "print('RMSLE изотонической регрессии {0:.5}'.format(rmsle_err(y, y_pred2)))\n",
        "print('RMSLE ансамбля моделей {0:.5}'.format(rmsle_err(y, y_pred)))"
      ],
      "metadata": {
        "colab": {
          "base_uri": "https://localhost:8080/"
        },
        "id": "LnIfGgL8EDyc",
        "outputId": "e05271b9-18ec-4862-9b79-ce102cbedc7c"
      },
      "execution_count": null,
      "outputs": [
        {
          "output_type": "stream",
          "name": "stdout",
          "text": [
            "RMSLE линейной регрессии 0.21966\n",
            "RMSLE изотонической регрессии 0.21626\n",
            "RMSLE ансамбля моделей 5.0419\n"
          ]
        },
        {
          "output_type": "stream",
          "name": "stderr",
          "text": [
            "/usr/local/lib/python3.7/dist-packages/ipykernel_launcher.py:4: RuntimeWarning: invalid value encountered in log\n",
            "  after removing the cwd from sys.path.\n"
          ]
        }
      ]
    }
  ]
}